{
 "cells": [
  {
   "cell_type": "code",
   "execution_count": 76,
   "id": "356df730",
   "metadata": {},
   "outputs": [],
   "source": [
    "import matplotlib.pyplot as plt\n",
    "import requests\n",
    "from scipy import stats\n",
    "import pandas as pd\n",
    "from config import weather_api_key\n",
    "import numpy as np\n",
    "from scipy.interpolate import interp1d\n",
    "from datetime import datetime\n",
    "import matplotlib.dates as mdates\n",
    "import pytz\n",
    "import calendar"
   ]
  },
  {
   "cell_type": "code",
   "execution_count": 77,
   "id": "ad73dd84",
   "metadata": {},
   "outputs": [
    {
     "name": "stdout",
     "output_type": "stream",
     "text": [
      "http://api.openweathermap.org/data/2.5/air_pollution/history?lat=40.7826&lon=-73.9656&start=1641013200&end=1672549140&appid=155db15cf89682a55503d94f25dc4deb\n"
     ]
    }
   ],
   "source": [
    "#http://api.openweathermap.org/data/2.5/air_pollution/history?lat=40.7826&lon=-73.9656&start=1656680445&end=1659272445&appid=155db15cf89682a55503d94f25dc4deb\n",
    "url = \"http://api.openweathermap.org/data/2.5/air_pollution/history\"\n",
    "city = \"New York\"\n",
    "cnt = \"7\" #number of forecast days\n",
    "units = \"imperial\"\n",
    "lon = \"-73.9656\"\n",
    "lat = \"40.7826\"\n",
    "start = \"1641013200\" \n",
    "end = \"1672549140\"\n",
    "#https://api.openweathermap.org/data/2.5/forecast/daily?lat=40.7826&lon=-73.9656&cnt=7&units=imperial&appid=155db15cf89682a55503d94f25dc4deb\n",
    "\n",
    "final_url = url + \"?lat=\" + lat + \"&lon=\" + lon + \"&start=\" + start + \"&end=\" + end + \"&appid=\" + weather_api_key\n",
    "print(final_url)"
   ]
  },
  {
   "cell_type": "code",
   "execution_count": 78,
   "id": "2963c245",
   "metadata": {},
   "outputs": [],
   "source": [
    "aqi_num = requests.get(final_url).json()"
   ]
  },
  {
   "cell_type": "code",
   "execution_count": 81,
   "id": "128f9c6f",
   "metadata": {},
   "outputs": [],
   "source": [
    "aqi = []\n",
    "time_stamp = []\n",
    "ts = []\n",
    "\n",
    "for day in range(8591):\n",
    "    aqi.append(aqi_num['list'][day]['main']['aqi'])\n",
    "    time_stamp.append(aqi_num['list'][day]['dt'])\n",
    "    \n",
    "for time in time_stamp:\n",
    "    ts.append(datetime.fromtimestamp(time).strftime(\"%H\"))"
   ]
  },
  {
   "cell_type": "code",
   "execution_count": 93,
   "id": "32a8da21",
   "metadata": {},
   "outputs": [
    {
     "data": {
      "text/plain": [
       "5.5749534450651765"
      ]
     },
     "execution_count": 93,
     "metadata": {},
     "output_type": "execute_result"
    }
   ],
   "source": [
    "aqi_df = pd.DataFrame({\n",
    "    \"Time Stamp\": time_stamp,\n",
    "    \"Human Time\": ts,\n",
    "    \"AQI\": aqi\n",
    "})\n",
    "\n",
    "aqi_df[aqi_df[\"AQI\"] == 5].count()\n",
    "\n",
    "aqi_percentage = 479/8592\n",
    "aqi_percentage * 100"
   ]
  },
  {
   "cell_type": "code",
   "execution_count": 68,
   "id": "243a0abf",
   "metadata": {},
   "outputs": [
    {
     "data": {
      "text/plain": [
       "[<matplotlib.lines.Line2D at 0x7f9980236220>]"
      ]
     },
     "execution_count": 68,
     "metadata": {},
     "output_type": "execute_result"
    },
    {
     "data": {
      "image/png": "[encoded data removed]",
      "text/plain": [
       "<Figure size 640x480 with 1 Axes>"
      ]
     },
     "metadata": {},
     "output_type": "display_data"
    }
   ],
   "source": [
    "x = aqi_df[\"Time Stamp\"]\n",
    "y = aqi_df[\"AQI\"]\n",
    "plt.plot(x,y)"
   ]
  },
  {
   "cell_type": "code",
   "execution_count": null,
   "id": "ca4297b6",
   "metadata": {},
   "outputs": [],
   "source": []
  }
 ],
 "metadata": {
  "kernelspec": {
   "display_name": "Python 3 (ipykernel)",
   "language": "python",
   "name": "python3"
  },
  "language_info": {
   "codemirror_mode": {
    "name": "ipython",
    "version": 3
   },
   "file_extension": ".py",
   "mimetype": "text/x-python",
   "name": "python",
   "nbconvert_exporter": "python",
   "pygments_lexer": "ipython3",
   "version": "3.9.13"
  }
 },
 "nbformat": 4,
 "nbformat_minor": 5
}
