{
 "cells": [
  {
   "cell_type": "code",
   "execution_count": 58,
   "id": "356df730",
   "metadata": {},
   "outputs": [],
   "source": [
    "import matplotlib.pyplot as plt\n",
    "import requests\n",
    "from scipy import stats\n",
    "import pandas as pd\n",
    "from config import weather_api_key\n",
    "import numpy as np\n",
    "from scipy.interpolate import interp1d\n",
    "from datetime import datetime\n",
    "import matplotlib.dates as mdates\n",
    "import pytz\n",
    "import calendar"
   ]
  },
  {
   "cell_type": "code",
   "execution_count": 59,
   "id": "ad73dd84",
   "metadata": {},
   "outputs": [
    {
     "name": "stdout",
     "output_type": "stream",
     "text": [
      "http://api.openweathermap.org/data/2.5/air_pollution/history?lat=34.0522&lon=-118.2437&start=1641013200&end=1672549140&appid=155db15cf89682a55503d94f25dc4deb\n"
     ]
    }
   ],
   "source": [
    "url = \"http://api.openweathermap.org/data/2.5/air_pollution/history\"\n",
    "city = \"New York\"\n",
    "cnt = \"7\" #number of forecast days\n",
    "units = \"imperial\"\n",
    "lon = \"-118.2437\"\n",
    "lat = \"34.0522\"\n",
    "start = \"1641013200\" \n",
    "end = \"1672549140\"\n",
    "\n",
    "final_url = url + \"?lat=\" + lat + \"&lon=\" + lon + \"&start=\" + start + \"&end=\" + end + \"&appid=\" + weather_api_key\n",
    "print(final_url)"
   ]
  },
  {
   "cell_type": "code",
   "execution_count": 60,
   "id": "2963c245",
   "metadata": {},
   "outputs": [],
   "source": [
    "aqi_num = requests.get(final_url).json()"
   ]
  },
  {
   "cell_type": "code",
   "execution_count": 61,
   "id": "128f9c6f",
   "metadata": {},
   "outputs": [],
   "source": [
    "aqi = []\n",
    "time_stamp = []\n",
    "ts = []\n",
    "\n",
    "for day in range(8591):\n",
    "    aqi.append(aqi_num['list'][day]['main']['aqi'])\n",
    "    time_stamp.append(aqi_num['list'][day]['dt'])\n",
    "    \n",
    "for time in time_stamp:\n",
    "    ts.append(datetime.fromtimestamp(time).strftime(\"%m-%d-%Y-%H\"))"
   ]
  },
  {
   "cell_type": "code",
   "execution_count": 62,
   "id": "32a8da21",
   "metadata": {},
   "outputs": [
    {
     "data": {
      "text/html": [
       "<div>\n",
       "<style scoped>\n",
       "    .dataframe tbody tr th:only-of-type {\n",
       "        vertical-align: middle;\n",
       "    }\n",
       "\n",
       "    .dataframe tbody tr th {\n",
       "        vertical-align: top;\n",
       "    }\n",
       "\n",
       "    .dataframe thead th {\n",
       "        text-align: right;\n",
       "    }\n",
       "</style>\n",
       "<table border=\"1\" class=\"dataframe\">\n",
       "  <thead>\n",
       "    <tr style=\"text-align: right;\">\n",
       "      <th></th>\n",
       "      <th>AQI</th>\n",
       "      <th>Time Stamp</th>\n",
       "      <th>Human Time</th>\n",
       "      <th>Time Percentage</th>\n",
       "    </tr>\n",
       "  </thead>\n",
       "  <tbody>\n",
       "    <tr>\n",
       "      <th>0</th>\n",
       "      <td>1</td>\n",
       "      <td>880</td>\n",
       "      <td>880</td>\n",
       "      <td>10.24</td>\n",
       "    </tr>\n",
       "    <tr>\n",
       "      <th>1</th>\n",
       "      <td>2</td>\n",
       "      <td>2460</td>\n",
       "      <td>2460</td>\n",
       "      <td>28.63</td>\n",
       "    </tr>\n",
       "    <tr>\n",
       "      <th>2</th>\n",
       "      <td>3</td>\n",
       "      <td>1195</td>\n",
       "      <td>1195</td>\n",
       "      <td>13.91</td>\n",
       "    </tr>\n",
       "    <tr>\n",
       "      <th>3</th>\n",
       "      <td>4</td>\n",
       "      <td>1914</td>\n",
       "      <td>1914</td>\n",
       "      <td>22.28</td>\n",
       "    </tr>\n",
       "    <tr>\n",
       "      <th>4</th>\n",
       "      <td>5</td>\n",
       "      <td>2142</td>\n",
       "      <td>2142</td>\n",
       "      <td>24.93</td>\n",
       "    </tr>\n",
       "  </tbody>\n",
       "</table>\n",
       "</div>"
      ],
      "text/plain": [
       "   AQI  Time Stamp  Human Time  Time Percentage\n",
       "0    1         880         880            10.24\n",
       "1    2        2460        2460            28.63\n",
       "2    3        1195        1195            13.91\n",
       "3    4        1914        1914            22.28\n",
       "4    5        2142        2142            24.93"
      ]
     },
     "execution_count": 62,
     "metadata": {},
     "output_type": "execute_result"
    }
   ],
   "source": [
    "aqi_df = pd.DataFrame({\n",
    "    \"Time Stamp\": time_stamp,\n",
    "    \"Human Time\": ts,\n",
    "    \"AQI\": aqi\n",
    "})\n",
    "\n",
    "total_count = aqi_df[\"AQI\"].count()\n",
    "\n",
    "aqi_groups = aqi_df.groupby(by=\"AQI\").count()\n",
    "aqi_groups = aqi_groups.reset_index()\n",
    "aqi_groups[\"Time Percentage\"] = round(aqi_groups[\"Time Stamp\"]/total_count*100, 2)\n",
    "aqi_groups"
   ]
  },
  {
   "cell_type": "code",
   "execution_count": 77,
   "id": "243a0abf",
   "metadata": {},
   "outputs": [
    {
     "data": {
      "image/png": "[encoded data removed]",
      "text/plain": [
       "<Figure size 640x480 with 1 Axes>"
      ]
     },
     "metadata": {},
     "output_type": "display_data"
    }
   ],
   "source": [
    "x = aqi_groups[\"AQI\"]\n",
    "y = aqi_groups[\"Time Percentage\"]\n",
    "\n",
    "labels = ['Good', 'Fair', 'Moderate', 'Poor', 'Very Poor']\n",
    "\n",
    "\n",
    "plt.bar(x, y, color='r', align=\"center\")\n",
    "x_axis = np.arange(len(aqi_groups[\"AQI\"]))\n",
    "tick_locations = [value for value in x]\n",
    "plt.xticks(tick_locations, ['Good', 'Fair', 'Moderate', 'Poor', 'Very Poor'])\n",
    "plt.show()\n"
   ]
  },
  {
   "cell_type": "code",
   "execution_count": null,
   "id": "ca4297b6",
   "metadata": {},
   "outputs": [],
   "source": []
  }
 ],
 "metadata": {
  "kernelspec": {
   "display_name": "Python 3 (ipykernel)",
   "language": "python",
   "name": "python3"
  },
  "language_info": {
   "codemirror_mode": {
    "name": "ipython",
    "version": 3
   },
   "file_extension": ".py",
   "mimetype": "text/x-python",
   "name": "python",
   "nbconvert_exporter": "python",
   "pygments_lexer": "ipython3",
   "version": "3.9.13"
  }
 },
 "nbformat": 4,
 "nbformat_minor": 5
}
