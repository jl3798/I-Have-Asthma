{
 "cells": [
  {
   "cell_type": "code",
   "execution_count": 2,
   "id": "356df730",
   "metadata": {},
   "outputs": [],
   "source": [
    "import matplotlib.pyplot as plt\n",
    "import requests\n",
    "import math\n",
    "from scipy import stats\n",
    "import pandas as pd\n",
    "from config import weather_api_key\n",
    "import numpy as np\n",
    "# from scipy.interpolate import interp1d\n",
    "from datetime import datetime\n",
    "# import matplotlib.dates as mdates\n",
    "# import pytz\n",
    "# import calendar"
   ]
  },
  {
   "cell_type": "code",
   "execution_count": 3,
   "id": "ccec7a65",
   "metadata": {},
   "outputs": [
    {
     "name": "stdout",
     "output_type": "stream",
     "text": [
      "Type a city to find AQI analysis: San Antonio\n"
     ]
    }
   ],
   "source": [
    "city= input(\"Type a city to find AQI analysis: \").lower()\n",
    "\n",
    "geo_url = \"http://api.openweathermap.org/geo/1.0/direct?q=\" + city + \"&appid=\" + weather_api_key\n",
    "lat_lon = requests.get(geo_url).json()\n"
   ]
  },
  {
   "cell_type": "code",
   "execution_count": 4,
   "id": "0a568068",
   "metadata": {},
   "outputs": [],
   "source": [
    "lat = str(lat_lon[0][\"lat\"])\n",
    "lon = str(lat_lon[0][\"lon\"])"
   ]
  },
  {
   "cell_type": "code",
   "execution_count": 5,
   "id": "ad73dd84",
   "metadata": {},
   "outputs": [
    {
     "name": "stdout",
     "output_type": "stream",
     "text": [
      "Please enter a value to analyze: Winter\n",
      "--------------------------\n",
      "All set, working on that now.....\n",
      "http://api.openweathermap.org/data/2.5/air_pollution/history?lat=29.4246002&lon=-98.4951405&start=1638334800&end=1646110740&appid=155db15cf89682a55503d94f25dc4deb\n"
     ]
    }
   ],
   "source": [
    "url = \"http://api.openweathermap.org/data/2.5/air_pollution/history\"\n",
    "units = \"imperial\"\n",
    "year = input(\"Please enter a value to analyze: \").lower()\n",
    "if year == \"2022\":\n",
    "    time_in_out = \"&start=1641013200&end=1672549140\"\n",
    "if year == \"2021\":\n",
    "    time_in_out = \"&start=1609477200&end=1641013140\"\n",
    "if year == \"winter\":\n",
    "    time_in_out = \"&start=1638334800&end=1646110740\"\n",
    "if year == \"spring\":\n",
    "    time_in_out = \"&start=1646110800&end=1654055940\"\n",
    "if year == \"summer\":\n",
    "    time_in_out = \"&start=1654056000&end=1662004740\"\n",
    "if year == \"fall\":\n",
    "    time_in_out = \"&start=1662004800&end=1669870740\"\n",
    "print(\"--------------------------\")\n",
    "print(\"All set, working on that now.....\")\n",
    "\n",
    "final_url = url + \"?lat=\" + lat + \"&lon=\" + lon + time_in_out + \"&appid=\" + weather_api_key\n",
    "print(final_url)"
   ]
  },
  {
   "cell_type": "code",
   "execution_count": 6,
   "id": "2963c245",
   "metadata": {},
   "outputs": [],
   "source": [
    "aqi_num = requests.get(final_url).json()"
   ]
  },
  {
   "cell_type": "code",
   "execution_count": 7,
   "id": "128f9c6f",
   "metadata": {},
   "outputs": [],
   "source": [
    "aqi = []\n",
    "time_stamp = []\n",
    "ts = []\n",
    "\n",
    "for day in range(len(aqi_num['list'])):\n",
    "    aqi.append(aqi_num['list'][day]['main']['aqi'])\n",
    "    time_stamp.append(aqi_num['list'][day]['dt'])\n",
    "    \n",
    "for time in time_stamp:\n",
    "    ts.append(datetime.fromtimestamp(time).strftime(\"%m-%d-%Y\"))"
   ]
  },
  {
   "cell_type": "code",
   "execution_count": null,
   "id": "41cb37db",
   "metadata": {},
   "outputs": [],
   "source": []
  },
  {
   "cell_type": "code",
   "execution_count": 8,
   "id": "32a8da21",
   "metadata": {
    "scrolled": true
   },
   "outputs": [],
   "source": [
    "aqi_df = pd.DataFrame({\n",
    "    \"Human Time\": ts,\n",
    "    \"AQI\": aqi\n",
    "})\n",
    "\n",
    "#total_count = aqi_df[\"AQI\"].count()\n",
    "\n",
    "\n",
    "aqi_df[\"Human Time\"] = pd.to_datetime(aqi_df[\"Human Time\"], format=\"%m-%d-%Y\")\n",
    "\n",
    "aqi_groups = aqi_df.resample('D', on='Human Time').max()\n",
    "\n",
    "\n",
    "# aqi_groups['AQI'].astype(int).groupby(aqi_groups['Human Time']).max()\n",
    "\n",
    "aqi_sorted = aqi_groups[\"AQI\"].value_counts().sort_index()\n",
    "aqi_sorted.to_csv(f'{city}_AQI_{year}.csv', index=True)\n",
    "aqi_days_df = pd.DataFrame(aqi_sorted)\n",
    "\n",
    "aqi_days_df\n",
    "holder_df = pd.DataFrame({\n",
    "    \"AQI\":[0,0,0,0,0,0]})\n",
    "aqi_groups = pd.concat([holder_df,aqi_days_df], axis=1).fillna(0).iloc[:,1][1:].astype(int)\n"
   ]
  },
  {
   "cell_type": "code",
   "execution_count": null,
   "id": "37cbe841",
   "metadata": {},
   "outputs": [],
   "source": [
    "\n"
   ]
  },
  {
   "cell_type": "code",
   "execution_count": 9,
   "id": "243a0abf",
   "metadata": {},
   "outputs": [
    {
     "name": "stdout",
     "output_type": "stream",
     "text": [
      "--------------------------\n",
      "A bar graph has been created with your AQI data\n"
     ]
    },
    {
     "data": {
      "image/png": "[encoded data removed]",
      "text/plain": [
       "<Figure size 640x480 with 1 Axes>"
      ]
     },
     "metadata": {},
     "output_type": "display_data"
    }
   ],
   "source": [
    "x = [1,2,3,4,5]\n",
    "y = aqi_groups\n",
    "\n",
    "labels = ['Good', 'Fair', 'Moderate', 'Poor', 'Very Poor']\n",
    "colors = ['green','yellow','orange','red', 'purple']\n",
    "\n",
    "barplot = plt.bar(x, y, color=colors, align=\"center\", edgecolor=\"black\")\n",
    "plt.bar_label(barplot, labels=y, label_type=\"edge\", padding=3)\n",
    "x_axis = np.arange(len(x))\n",
    "plt.ylim(0,70)\n",
    "plt.ylabel(\"Number of Days\", size=13)\n",
    "plt.xlabel(\"Air Quality\", size =13)\n",
    "tick_locations = [value for value in x]\n",
    "plt.xticks(tick_locations, ['Good', 'Fair', 'Moderate', 'Poor', 'Very Poor'])\n",
    "plt.title((f\"Overall Air Quality for {city} ({year})\").title(), size = 13)\n",
    "print(\"--------------------------\")\n",
    "print(\"A bar graph has been created with your AQI data\")\n",
    "plt.savefig(f\"{city}_AQI_{year}.png\", transparent=True)\n",
    "plt.show()\n"
   ]
  },
  {
   "cell_type": "code",
   "execution_count": null,
   "id": "ca4297b6",
   "metadata": {},
   "outputs": [],
   "source": []
  },
  {
   "cell_type": "code",
   "execution_count": null,
   "id": "efc5c60d",
   "metadata": {},
   "outputs": [],
   "source": []
  }
 ],
 "metadata": {
  "kernelspec": {
   "display_name": "Python 3 (ipykernel)",
   "language": "python",
   "name": "python3"
  },
  "language_info": {
   "codemirror_mode": {
    "name": "ipython",
    "version": 3
   },
   "file_extension": ".py",
   "mimetype": "text/x-python",
   "name": "python",
   "nbconvert_exporter": "python",
   "pygments_lexer": "ipython3",
   "version": "3.9.13"
  }
 },
 "nbformat": 4,
 "nbformat_minor": 5
}
