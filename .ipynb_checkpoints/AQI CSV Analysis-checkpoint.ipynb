{
 "cells": [
  {
   "cell_type": "code",
   "execution_count": 2,
   "id": "8db4d611",
   "metadata": {},
   "outputs": [],
   "source": [
    "import os\n",
    "import csv\n",
    "import pandas as pd\n",
    "import numpy as np\n",
    "import matplotlib.pyplot as plt"
   ]
  },
  {
   "cell_type": "code",
   "execution_count": null,
   "id": "b3c78b04",
   "metadata": {},
   "outputs": [],
   "source": []
  },
  {
   "cell_type": "code",
   "execution_count": 3,
   "id": "68770b95",
   "metadata": {},
   "outputs": [
    {
     "data": {
      "text/html": [
       "<div>\n",
       "<style scoped>\n",
       "    .dataframe tbody tr th:only-of-type {\n",
       "        vertical-align: middle;\n",
       "    }\n",
       "\n",
       "    .dataframe tbody tr th {\n",
       "        vertical-align: top;\n",
       "    }\n",
       "\n",
       "    .dataframe thead th {\n",
       "        text-align: right;\n",
       "    }\n",
       "</style>\n",
       "<table border=\"1\" class=\"dataframe\">\n",
       "  <thead>\n",
       "    <tr style=\"text-align: right;\">\n",
       "      <th></th>\n",
       "      <th>Unnamed: 0</th>\n",
       "      <th>SJC AQI</th>\n",
       "    </tr>\n",
       "  </thead>\n",
       "  <tbody>\n",
       "    <tr>\n",
       "      <th>0</th>\n",
       "      <td>1.0</td>\n",
       "      <td>7</td>\n",
       "    </tr>\n",
       "    <tr>\n",
       "      <th>1</th>\n",
       "      <td>2.0</td>\n",
       "      <td>80</td>\n",
       "    </tr>\n",
       "    <tr>\n",
       "      <th>2</th>\n",
       "      <td>3.0</td>\n",
       "      <td>112</td>\n",
       "    </tr>\n",
       "    <tr>\n",
       "      <th>3</th>\n",
       "      <td>4.0</td>\n",
       "      <td>101</td>\n",
       "    </tr>\n",
       "    <tr>\n",
       "      <th>4</th>\n",
       "      <td>5.0</td>\n",
       "      <td>63</td>\n",
       "    </tr>\n",
       "  </tbody>\n",
       "</table>\n",
       "</div>"
      ],
      "text/plain": [
       "   Unnamed: 0  SJC AQI\n",
       "0         1.0        7\n",
       "1         2.0       80\n",
       "2         3.0      112\n",
       "3         4.0      101\n",
       "4         5.0       63"
      ]
     },
     "execution_count": 3,
     "metadata": {},
     "output_type": "execute_result"
    }
   ],
   "source": [
    "#Read ALL the csv files\n",
    "nyc = pd.read_csv('new york_AQI_2022.csv')\n",
    "nyc = nyc.rename(columns={\"AQI\":\"NYC AQI\"})\n",
    "\n",
    "lax = pd.read_csv('los angeles_AQI_2022.csv')\n",
    "lax = lax.rename(columns={\"AQI\":\"LAX AQI\"})\n",
    "\n",
    "chi = pd.read_csv('chicago_AQI_2022.csv')\n",
    "chi = chi.rename(columns={\"AQI\":\"CHI AQI\"})\n",
    "\n",
    "hou = pd.read_csv('houston_AQI_2022.csv')\n",
    "hou = hou.rename(columns={\"AQI\":\"HOU AQI\"})\n",
    "\n",
    "phl = pd.read_csv('philadelphia_AQI_2022.csv')\n",
    "phl = phl.rename(columns={\"AQI\":\"PHL AQI\"})\n",
    "\n",
    "dfw = pd.read_csv('dallas_AQI_2022.csv')\n",
    "dfw = dfw.rename(columns={\"AQI\":\"DFW AQI\"})\n",
    "\n",
    "phx = pd.read_csv('phoenix_AQI_2022.csv')\n",
    "phx = phx.rename(columns={\"AQI\":\"PHX AQI\"})\n",
    "\n",
    "sat = pd.read_csv('san antonio_AQI_2022.csv')\n",
    "sat = sat.rename(columns={\"AQI\":\"SAT AQI\"})\n",
    "\n",
    "san = pd.read_csv('san diego_AQI_2022.csv')\n",
    "san = san.rename(columns={\"AQI\":\"SAN AQI\"})\n",
    "\n",
    "sjc = pd.read_csv('san jose_AQI_2022.csv')\n",
    "sjc = sjc.rename(columns={\"AQI\":\"SJC AQI\"})\n",
    "sjc"
   ]
  },
  {
   "cell_type": "code",
   "execution_count": 4,
   "id": "cefed385",
   "metadata": {},
   "outputs": [],
   "source": [
    "merge = pd.merge(nyc, lax, how='left')\n",
    "merge = pd.merge(merge, chi, how='left')\n",
    "merge = pd.merge(merge, hou, how='left')\n",
    "merge = pd.merge(merge, phl, how='left')\n",
    "merge = pd.merge(merge, dfw, how='left')\n",
    "merge = pd.merge(merge, phx, how='left')\n",
    "merge = pd.merge(merge, sat, how='left')\n",
    "merge = pd.merge(merge, san, how='left')\n",
    "all_cities = pd.merge(merge, sjc, how='left')\n",
    "all_cities = all_cities.fillna(0).astype(int)\n",
    "all_cities= all_cities.rename(columns={\"Unnamed: 0\":\"INDEX\"})\n",
    "all_cities = all_cities.set_index(\"INDEX\")"
   ]
  },
  {
   "cell_type": "code",
   "execution_count": 5,
   "id": "50aaf1d0",
   "metadata": {},
   "outputs": [],
   "source": [
    "all_cities.to_csv(f'AQI_all_cities.csv', index=True)"
   ]
  },
  {
   "cell_type": "code",
   "execution_count": 10,
   "id": "cf139a60",
   "metadata": {},
   "outputs": [
    {
     "data": {
      "image/png": "[encoded data removed]",
      "text/plain": [
       "<Figure size 640x480 with 1 Axes>"
      ]
     },
     "metadata": {},
     "output_type": "display_data"
    }
   ],
   "source": [
    "x = ['NYC', 'LAX', 'CHI', 'HOU', 'PHL',\n",
    "       'DFW', 'PHX', 'SAT', 'SAN', 'SJC']\n",
    "y = all_cities.loc[5]\n",
    "\n",
    "barplot = plt.bar(x, y, color='purple', align=\"center\", edgecolor=\"black\")\n",
    "plt.bar_label(barplot, labels=y, label_type=\"edge\", padding=3)\n",
    "plt.ylim(0,250)\n",
    "plt.ylabel(\"Number of Days Per Year\", size=13)\n",
    "plt.title(f\"Days with VERY UNHEALTHY Air Quality (AQI=5)\", size = 12)\n",
    "plt.savefig(f\"Worst Air Quality Per City.png\", transparent=True)\n",
    "plt.show()"
   ]
  },
  {
   "cell_type": "code",
   "execution_count": null,
   "id": "3857bf4d",
   "metadata": {},
   "outputs": [],
   "source": []
  }
 ],
 "metadata": {
  "kernelspec": {
   "display_name": "Python 3 (ipykernel)",
   "language": "python",
   "name": "python3"
  },
  "language_info": {
   "codemirror_mode": {
    "name": "ipython",
    "version": 3
   },
   "file_extension": ".py",
   "mimetype": "text/x-python",
   "name": "python",
   "nbconvert_exporter": "python",
   "pygments_lexer": "ipython3",
   "version": "3.9.13"
  }
 },
 "nbformat": 4,
 "nbformat_minor": 5
}
